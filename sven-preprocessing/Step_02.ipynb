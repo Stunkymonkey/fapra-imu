{
 "cells": [
  {
   "cell_type": "code",
   "execution_count": 1,
   "metadata": {},
   "outputs": [],
   "source": [
    "import pandas as pd"
   ]
  },
  {
   "cell_type": "code",
   "execution_count": 2,
   "metadata": {},
   "outputs": [],
   "source": [
    "dfSensor = pd.read_pickle(\"./data/step01_sensor.pkl\")"
   ]
  },
  {
   "cell_type": "code",
   "execution_count": 3,
   "metadata": {},
   "outputs": [],
   "source": [
    "dfSensor[\"TimeReal\"] = pd.to_datetime(dfSensor.Time,unit='ms')"
   ]
  },
  {
   "cell_type": "code",
   "execution_count": 47,
   "metadata": {},
   "outputs": [
    {
     "name": "stdout",
     "output_type": "stream",
     "text": [
      "CPU times: user 7min 23s, sys: 2min 18s, total: 9min 41s\n",
      "Wall time: 9min 41s\n"
     ]
    }
   ],
   "source": [
    "%%time\n",
    "lstdf = []\n",
    "for pid in dfSensor.PId.unique():\n",
    "    print(pid)\n",
    "    for phone in dfSensor.Phone.unique():\n",
    "        dfX = dfSensor[(dfSensor.PId == pid) & (dfSensor.Phone == phone)]\n",
    "        dfX = dfX.set_index([\"TimeReal\", \"Sensor\"])\n",
    "        dfX = dfX.unstack()\n",
    "        dfX = dfX.groupby(\"TimeReal\").mean()\n",
    "        for x in dfSensor.Sensor.unique():\n",
    "            del dfX[('Time', x)]\n",
    "            del dfX[('PId', x)]\n",
    "        dfX = dfX.fillna(method=\"pad\")\n",
    "        dfX = dfX.dropna()\n",
    "        dfX = dfX.resample(\"3ms\").pad()\n",
    "        lst = [] \n",
    "        for x in ['X', 'Y', 'Z']:\n",
    "            for y in ['acc', 'grav', 'gyro', 'mag', 'ori', 'rot']:\n",
    "                lst.append(y.title()+x)\n",
    "        dfX.columns= lst\n",
    "        dfX[\"PId\"] = pid\n",
    "        dfX[\"Phone\"] = phone\n",
    "        dfX = dfX.reset_index()\n",
    "        lstdf.append(dfX)"
   ]
  },
  {
   "cell_type": "code",
   "execution_count": 48,
   "metadata": {},
   "outputs": [],
   "source": [
    "dfnew = pd.concat(lstdf)"
   ]
  },
  {
   "cell_type": "code",
   "execution_count": 51,
   "metadata": {},
   "outputs": [],
   "source": [
    "dfnew.to_pickle(\"./data/step02_sensor.pkl\")"
   ]
  },
  {
   "cell_type": "code",
   "execution_count": null,
   "metadata": {},
   "outputs": [],
   "source": []
  }
 ],
 "metadata": {
  "kernelspec": {
   "display_name": "Python 3",
   "language": "python",
   "name": "python3"
  },
  "language_info": {
   "codemirror_mode": {
    "name": "ipython",
    "version": 3
   },
   "file_extension": ".py",
   "mimetype": "text/x-python",
   "name": "python",
   "nbconvert_exporter": "python",
   "pygments_lexer": "ipython3",
   "version": "3.6.7"
  }
 },
 "nbformat": 4,
 "nbformat_minor": 2
}
