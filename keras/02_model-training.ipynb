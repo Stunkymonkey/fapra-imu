{
 "cells": [
  {
   "cell_type": "code",
   "execution_count": 1,
   "metadata": {},
   "outputs": [
    {
     "name": "stderr",
     "output_type": "stream",
     "text": [
      "Using TensorFlow backend.\n"
     ]
    }
   ],
   "source": [
    "from keras.models import Sequential, load_model\n",
    "from keras.layers import *\n",
    "from keras import optimizers\n",
    "from keras.callbacks import TensorBoard, ModelCheckpoint, ReduceLROnPlateau\n",
    "\n",
    "# telegram\n",
    "import telegram\n",
    "from callbacks_addons import TelegramCallback\n",
    "\n",
    "import numpy as np\n",
    "import matplotlib.pyplot as plt\n",
    "import pandas as pd\n",
    "import math\n",
    "\n",
    "import tensorflow as tf\n",
    "\n",
    "# Importing matplotlib to plot images.\n",
    "import matplotlib.pyplot as plt\n",
    "import numpy as np\n",
    "%matplotlib inline\n",
    "\n",
    "# Importing SK-learn to calculate precision and recall\n",
    "import sklearn\n",
    "from sklearn import metrics\n",
    "from sklearn.model_selection import train_test_split, cross_val_score, LeaveOneGroupOut\n",
    "from sklearn.utils import shuffle \n",
    "\n",
    "# Used for graph export\n",
    "from tensorflow.python.framework import graph_util\n",
    "from tensorflow.python.framework import graph_io\n",
    "from keras import backend as K\n",
    "\n",
    "import pickle as pkl\n",
    "import h5py\n",
    "\n",
    "from pathlib import Path\n",
    "import os.path\n",
    "import sys\n",
    "import datetime\n",
    "import time"
   ]
  },
  {
   "cell_type": "code",
   "execution_count": 2,
   "metadata": {},
   "outputs": [
    {
     "data": {
      "text/plain": [
       "'2.2.4'"
      ]
     },
     "execution_count": 2,
     "metadata": {},
     "output_type": "execute_result"
    }
   ],
   "source": [
    "import keras\n",
    "keras.__version__"
   ]
  },
  {
   "cell_type": "code",
   "execution_count": 3,
   "metadata": {},
   "outputs": [],
   "source": [
    "# If GPU is not available: \n",
    "# GPU_USE = '/cpu:0'\n",
    "# config = tf.ConfigProto(device_count = {\"GPU\": 0})\n",
    "\n",
    "\n",
    "# If GPU is available: \n",
    "config = tf.ConfigProto()\n",
    "config.log_device_placement = True\n",
    "config.allow_soft_placement = True\n",
    "config.gpu_options.allocator_type = 'BFC'\n",
    "\n",
    "# Limit the maximum memory used\n",
    "config.gpu_options.per_process_gpu_memory_fraction = 0.2\n",
    "\n",
    "# set session config\n",
    "tf.keras.backend.set_session(tf.Session(config=config))"
   ]
  },
  {
   "cell_type": "code",
   "execution_count": 4,
   "metadata": {},
   "outputs": [],
   "source": [
    "class LoggingTensorBoard(TensorBoard):    \n",
    "\n",
    "    def __init__(self, log_dir, settings_str_to_log, **kwargs):\n",
    "        super(LoggingTensorBoard, self).__init__(log_dir, **kwargs)\n",
    "\n",
    "        self.settings_str = settings_str_to_log\n",
    "\n",
    "    def on_train_begin(self, logs=None):\n",
    "        TensorBoard.on_train_begin(self, logs=logs)\n",
    "\n",
    "        tensor =  tf.convert_to_tensor(self.settings_str)\n",
    "        summary = tf.summary.text (\"Run Settings\", tensor)\n",
    "\n",
    "        with  tf.Session() as sess:\n",
    "            s = sess.run(summary)\n",
    "            self.writer.add_summary(s)"
   ]
  },
  {
   "cell_type": "code",
   "execution_count": 5,
   "metadata": {},
   "outputs": [],
   "source": [
    "smartphones = [\"N5X\"]\n",
    "window_size = 25\n",
    "constant_pixels = 0.06\n",
    "HDF5_PATH = str(Path.home())+\"/data/hdf/\"+smartphones[0]+\"-win\"+str(window_size)+\".hdf\""
   ]
  },
  {
   "cell_type": "markdown",
   "metadata": {},
   "source": [
    "# H5DF files contains 3 members: labels, segments, groups"
   ]
  },
  {
   "cell_type": "code",
   "execution_count": 6,
   "metadata": {},
   "outputs": [
    {
     "name": "stdout",
     "output_type": "stream",
     "text": [
      "(1071132, 25, 18, 1) (1071132, 2) (415693, 25, 18, 1) (415693, 2)\n"
     ]
    }
   ],
   "source": [
    "hdf = h5py.File(HDF5_PATH, \"r\")\n",
    "\n",
    "train_x = hdf[\"train/sensors\"]\n",
    "train_y = hdf[\"train/labels\"]\n",
    "\n",
    "test_x = hdf[\"test/sensors\"]\n",
    "test_y = hdf[\"test/labels\"]\n",
    "\n",
    "print(train_x.shape, train_y.shape, test_x.shape, test_y.shape)"
   ]
  },
  {
   "cell_type": "code",
   "execution_count": 23,
   "metadata": {},
   "outputs": [],
   "source": [
    "def myGenerator(set_name, batch_size):\n",
    "    \"\"\"\n",
    "    This generator returns images\n",
    "    \"\"\"\n",
    "    hdf = h5py.File(HDF5_PATH, \"r\")\n",
    "\n",
    "    pSensors = hdf[set_name + \"/sensors\"]\n",
    "    pLabels = hdf[set_name + \"/labels\"]\n",
    "\n",
    "    len_train = pSensors.shape[0]\n",
    "    \n",
    "    randomBatchOrder = np.arange(len_train // batch_size)\n",
    "       \n",
    "    while True:\n",
    "        np.random.shuffle(randomBatchOrder) \n",
    "        \n",
    "        for i in range(len_train // batch_size):\n",
    "            idx = randomBatchOrder[i]\n",
    "            shuffled = shuffle(pSensors[idx * batch_size: (idx+1) * batch_size], pLabels[idx * batch_size: (idx+1) * batch_size])\n",
    "            yield shuffled[0].reshape(-1, 1, train_x.shape[1], train_x.shape[2], 1), shuffled[1].reshape(-1, train_y.shape[1])"
   ]
  },
  {
   "cell_type": "code",
   "execution_count": 24,
   "metadata": {},
   "outputs": [],
   "source": [
    "## ConvLSTM net hyperparameters\n",
    "numFilters1 = 128 # number of filters in first Conv2D layer\n",
    "numFilters2 = 64 # number of filters in second Conv2D layer\n",
    "# kernal size of the Conv2D layer\n",
    "kernalSize1 = (3, 3)\n",
    "# max pooling window size\n",
    "poolingWindowSz = 2\n",
    "# number of filters in fully connected layers\n",
    "numNueronsFCL1 = 512\n",
    "numNueronsFCL2 = 128\n",
    "# number of epochs\n",
    "epochs = 9999\n",
    "# batchsize\n",
    "batch_size = 100\n",
    "# number of total clases\n",
    "numClasses = train_y.shape[1]\n",
    "# dropout ratio for dropout layer\n",
    "dropOutRatio = 0.5"
   ]
  },
  {
   "cell_type": "code",
   "execution_count": null,
   "metadata": {},
   "outputs": [],
   "source": []
  },
  {
   "cell_type": "code",
   "execution_count": 25,
   "metadata": {},
   "outputs": [
    {
     "data": {
      "text/plain": [
       "(1071132, 25, 18, 1)"
      ]
     },
     "execution_count": 25,
     "metadata": {},
     "output_type": "execute_result"
    }
   ],
   "source": [
    "train_x.shape"
   ]
  },
  {
   "cell_type": "code",
   "execution_count": 27,
   "metadata": {},
   "outputs": [
    {
     "data": {
      "text/plain": [
       "(1071132, 2)"
      ]
     },
     "execution_count": 27,
     "metadata": {},
     "output_type": "execute_result"
    }
   ],
   "source": [
    "train_y.shape"
   ]
  },
  {
   "cell_type": "code",
   "execution_count": 28,
   "metadata": {},
   "outputs": [],
   "source": [
    "model = None\n",
    "model = Sequential()\n",
    "model.add(ConvLSTM2D(128, (3, 3) , \n",
    "                     input_shape=(None, train_x.shape[1], train_x.shape[2], 1),\n",
    "                     activation='relu', padding='same', return_sequences=True))\n",
    "model.add(ConvLSTM2D(64, (3, 3),\n",
    "                     activation='relu', padding='same', return_sequences=True))\n",
    "\n",
    "#model.add(BatchNormalization(axis=-1))\n",
    "model.add(TimeDistributed(MaxPool2D(pool_size=(2, 2), padding='Same')))\n",
    "model.add(TimeDistributed(Dropout(dropOutRatio)))\n",
    "\n",
    "model.add(TimeDistributed(Dropout(dropOutRatio)))\n",
    "model.add(TimeDistributed(Flatten()))\n",
    "\n",
    "model.add(Dense(numNueronsFCL1, activation='relu'))\n",
    "model.add(Dense(numNueronsFCL2, activation='relu'))\n",
    "model.add(Dense(2))\n"
   ]
  },
  {
   "cell_type": "code",
   "execution_count": null,
   "metadata": {
    "scrolled": false
   },
   "outputs": [
    {
     "name": "stdout",
     "output_type": "stream",
     "text": [
      "IMU_N5X_20190109_114822\n",
      "_________________________________________________________________\n",
      "Layer (type)                 Output Shape              Param #   \n",
      "=================================================================\n",
      "time_distributed_33 (TimeDis (None, None, 25, 18, 32)  320       \n",
      "_________________________________________________________________\n",
      "time_distributed_34 (TimeDis (None, None, 25, 18, 32)  9248      \n",
      "_________________________________________________________________\n",
      "time_distributed_35 (TimeDis (None, None, 12, 9, 32)   0         \n",
      "_________________________________________________________________\n",
      "time_distributed_36 (TimeDis (None, None, 12, 9, 32)   0         \n",
      "_________________________________________________________________\n",
      "time_distributed_37 (TimeDis (None, None, 12, 9, 64)   18496     \n",
      "_________________________________________________________________\n",
      "time_distributed_38 (TimeDis (None, None, 12, 9, 64)   36928     \n",
      "_________________________________________________________________\n",
      "time_distributed_39 (TimeDis (None, None, 6, 4, 64)    0         \n",
      "_________________________________________________________________\n",
      "time_distributed_40 (TimeDis (None, None, 6, 4, 64)    0         \n",
      "_________________________________________________________________\n",
      "time_distributed_41 (TimeDis (None, None, 1536)        0         \n",
      "_________________________________________________________________\n",
      "lstm_5 (LSTM)                (None, None, 75)          483600    \n",
      "_________________________________________________________________\n",
      "lstm_6 (LSTM)                (None, 75)                45300     \n",
      "_________________________________________________________________\n",
      "dense_13 (Dense)             (None, 2)                 152       \n",
      "=================================================================\n",
      "Total params: 594,044\n",
      "Trainable params: 594,044\n",
      "Non-trainable params: 0\n",
      "_________________________________________________________________\n",
      "INFO:tensorflow:Summary name Run Settings is illegal; using Run_Settings instead.\n",
      "Epoch 1/9999\n",
      "10711/10711 [==============================] - 395s 37ms/step - loss: 701.8631 - eucInMM: 57.1738 - rmse: 701.8631 - euc: 952.8967 - val_loss: 569.0985 - val_eucInMM: 46.2892 - val_rmse: 569.0985 - val_euc: 771.4872\n",
      "Epoch 2/9999\n",
      " 2066/10711 [====>.........................] - ETA: 4:42 - loss: 560.0440 - eucInMM: 45.6190 - rmse: 560.0440 - euc: 760.3167"
     ]
    }
   ],
   "source": [
    "tf.get_default_graph()\n",
    "\n",
    "model = Sequential()\n",
    "model.add(TimeDistributed(Conv2D(filters = 32, kernel_size = (3,3),padding = 'Same', \n",
    "                 activation ='relu'), input_shape=(None, train_x.shape[1], train_x.shape[2], 1)))\n",
    "model.add(TimeDistributed(Conv2D(filters = 32, kernel_size = (3,3),padding = 'Same', \n",
    "                 activation ='relu')))\n",
    "model.add(TimeDistributed(MaxPool2D(pool_size=(2,2))))\n",
    "model.add(TimeDistributed(Dropout(0.5)))\n",
    "\n",
    "model.add(TimeDistributed(Conv2D(filters = 64, kernel_size = (3,3),padding = 'Same', \n",
    "                 activation ='relu')))\n",
    "model.add(TimeDistributed(Conv2D(filters = 64, kernel_size = (3,3),padding = 'Same', \n",
    "                 activation ='relu')))\n",
    "model.add(TimeDistributed(MaxPool2D(pool_size=(2,2))))\n",
    "model.add(TimeDistributed(Dropout(0.5)))\n",
    "\n",
    "model.add(TimeDistributed(Flatten()))\n",
    "\n",
    "model.add(LSTM(75, return_sequences=True))\n",
    "model.add(LSTM(75))\n",
    "model.add(Dense(2))\n",
    "\n",
    "## Compiling the model to generate a model\n",
    "def eucInMM(y_true, y_pred):\n",
    "    return (K.sqrt(K.sum(K.square(y_true - y_pred), axis=-1, keepdims=True))) * constant_pixels\n",
    "def euc(y_true, y_pred):\n",
    "    return K.sqrt(K.sum(K.square(y_true - y_pred), axis=-1, keepdims=True))\n",
    "def rmse(y_true, y_pred):\n",
    "    return K.sqrt(K.mean(K.square(y_true - y_pred)))\n",
    "\n",
    "optimizer = optimizers.Adam(lr = 0.001, decay=1e-6)\n",
    "#optimizer = optimizers.RMSprop(lr=0.001, rho=0.9, epsilon=1e-08, decay=0.1)\n",
    "model.compile(loss=rmse, optimizer=optimizer, metrics=[eucInMM ,rmse, euc])\n",
    "\n",
    "# Broadcast progress to the tensorboard.\n",
    "readable_timestamp = datetime.datetime.fromtimestamp(time.time()).strftime('%Y%m%d_%H%M%S')\n",
    "file_name = \"IMU_\" + smartphones[0] + \"_\" + readable_timestamp\n",
    "tensorboardFolder = \"/srv/share/tensorboardfiles/\" + file_name\n",
    "\n",
    "config = \"\"\n",
    "for layer in model.layers:\n",
    "    config += str(layer.output).split('\\\"')[1].split(\"/\")[0] + str(layer.output_shape) + \"\\n\\n\"\n",
    "config += \"Kernel Size: \" + str(kernalSize1) + \"\\n\\n\"\n",
    "config += \"Batch Size: \" + str(batch_size) + \"\\n\\n\"\n",
    "config += \"Num of Epochs: \" + str(epochs) + \"\\n\\n\"\n",
    "\n",
    "print(file_name)\n",
    "model.summary()\n",
    "\n",
    "callbacks = [\n",
    "    ModelCheckpoint(str(Path.home()) + \"/data/models/\"+ file_name + \".h5\",\n",
    "                    monitor='val_eucInMM',\n",
    "                    verbose=0,\n",
    "                    save_best_only=True,\n",
    "                    save_weights_only=False\n",
    "                   ),\n",
    "    LoggingTensorBoard(settings_str_to_log=config,\n",
    "                       log_dir=tensorboardFolder,\n",
    "                       histogram_freq=0,\n",
    "                       write_graph=True,\n",
    "                       write_images=True,\n",
    "                       update_freq='epoch'\n",
    "                      ),\n",
    "    ReduceLROnPlateau(monitor='val_loss',\n",
    "                      patience=10,\n",
    "                      verbose=1,\n",
    "                      factor=0.9,\n",
    "                      min_lr=0.00001),\n",
    "    TelegramCallback(\n",
    "        {\n",
    "            'token': \"707020808:AAHJ22G0diUExRP4JUITk1VKuPtBPUVQ-J4\",\n",
    "            'telegram_id': -320890356,\n",
    "        }\n",
    "    )\n",
    "]\n",
    "\n",
    "history = model.fit_generator(myGenerator(\"train\", batch_size),\n",
    "                              steps_per_epoch=len(train_x) // batch_size,\n",
    "                              epochs=epochs,\n",
    "                              verbose=1,\n",
    "                              validation_data=myGenerator(\"test\", batch_size),\n",
    "                              validation_steps=len(test_x) // batch_size,\n",
    "                              callbacks=callbacks\n",
    "                             )\n",
    "\n",
    "score = model.evaluate(np.expand_dims(test_x,1),np.expand_dims(test_y,1),verbose=2)\n",
    "print('%s: %.2f' % (model.metrics_names[1], score[1]))\n",
    "print('Baseline ConvLSTM Error: %.2f' %(1 - score[1]))"
   ]
  },
  {
   "cell_type": "code",
   "execution_count": null,
   "metadata": {},
   "outputs": [],
   "source": []
  }
 ],
 "metadata": {
  "kernelspec": {
   "display_name": "Python 3",
   "language": "python",
   "name": "python3"
  },
  "language_info": {
   "codemirror_mode": {
    "name": "ipython",
    "version": 3
   },
   "file_extension": ".py",
   "mimetype": "text/x-python",
   "name": "python",
   "nbconvert_exporter": "python",
   "pygments_lexer": "ipython3",
   "version": "3.6.7"
  }
 },
 "nbformat": 4,
 "nbformat_minor": 2
}
