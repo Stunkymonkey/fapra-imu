{
 "cells": [
  {
   "cell_type": "code",
   "execution_count": 1,
   "metadata": {},
   "outputs": [],
   "source": [
    "import pandas as pd\n",
    "import numpy as np"
   ]
  },
  {
   "cell_type": "code",
   "execution_count": 2,
   "metadata": {},
   "outputs": [],
   "source": [
    "dfSensor = pd.read_pickle(\"./data/step02_sensor.pkl\")\n",
    "dfTouch = pd.read_pickle(\"./data/step01_touch.pkl\")"
   ]
  },
  {
   "cell_type": "code",
   "execution_count": 3,
   "metadata": {},
   "outputs": [],
   "source": [
    "dfSensor[\"Time\"] = dfSensor['TimeReal'].astype(np.int64) // 10**6"
   ]
  },
  {
   "cell_type": "code",
   "execution_count": 4,
   "metadata": {},
   "outputs": [],
   "source": [
    "lst = ['PId','Sensor','Time','TimeReal', 'AccX', 'AccY', 'AccZ', 'GyroX', 'GyroY', 'GyroZ', 'GravX', 'GravY', 'GravZ', 'MagX', 'MagY', 'MagZ', 'OriX', 'OriY', 'OriZ', 'RotX', 'RotY', 'RotZ']\n",
    "dfSensor = dfSensor.reindex(lst, axis=1)"
   ]
  },
  {
   "cell_type": "code",
   "execution_count": 5,
   "metadata": {},
   "outputs": [
    {
     "data": {
      "text/plain": [
       "Index(['AccX', 'AccY', 'AccZ', 'GyroX', 'GyroY', 'GyroZ'], dtype='object')"
      ]
     },
     "execution_count": 5,
     "metadata": {},
     "output_type": "execute_result"
    }
   ],
   "source": [
    "cols = dfSensor.columns[4:4+6]\n",
    "cols"
   ]
  },
  {
   "cell_type": "code",
   "execution_count": 6,
   "metadata": {},
   "outputs": [],
   "source": [
    "pid = 1\n",
    "phone = \"N6\""
   ]
  },
  {
   "cell_type": "code",
   "execution_count": 56,
   "metadata": {},
   "outputs": [
    {
     "name": "stdout",
     "output_type": "stream",
     "text": [
      "1\n",
      "N6\n",
      "N5X\n",
      "S3Mini\n",
      "S4\n",
      "17\n",
      "N6\n",
      "N5X\n",
      "S3Mini\n",
      "S4\n",
      "11\n",
      "N6\n",
      "N5X\n",
      "S3Mini\n",
      "S4\n",
      "10\n",
      "N6\n",
      "N5X\n",
      "S3Mini\n",
      "S4\n",
      "5\n",
      "N6\n",
      "N5X\n",
      "S3Mini\n",
      "S4\n",
      "6\n",
      "N6\n",
      "N5X\n",
      "S3Mini\n",
      "S4\n",
      "3\n",
      "N6\n",
      "N5X\n",
      "S3Mini\n",
      "S4\n",
      "13\n",
      "N6\n",
      "N5X\n",
      "S3Mini\n",
      "S4\n",
      "4\n",
      "N6\n",
      "N5X\n",
      "S3Mini\n",
      "S4\n",
      "7\n",
      "N6\n",
      "N5X\n",
      "S3Mini\n",
      "S4\n",
      "16\n",
      "N6\n",
      "N5X\n",
      "S3Mini\n",
      "S4\n",
      "19\n",
      "N6\n",
      "N5X\n",
      "S3Mini\n",
      "S4\n",
      "18\n",
      "N6\n",
      "N5X\n",
      "S3Mini\n",
      "S4\n",
      "14\n",
      "N6\n",
      "N5X\n",
      "S3Mini\n",
      "S4\n",
      "8\n",
      "N6\n",
      "N5X\n",
      "S3Mini\n",
      "S4\n",
      "9\n",
      "N6\n",
      "N5X\n",
      "S3Mini\n",
      "S4\n",
      "12\n",
      "N6\n",
      "N5X\n",
      "S3Mini\n",
      "S4\n",
      "15\n",
      "N6\n",
      "N5X\n",
      "S3Mini\n",
      "S4\n",
      "2\n",
      "N6\n",
      "N5X\n",
      "S3Mini\n",
      "S4\n",
      "20\n",
      "N6\n",
      "N5X\n",
      "S3Mini\n",
      "S4\n",
      "CPU times: user 19min 25s, sys: 1min 11s, total: 20min 36s\n",
      "Wall time: 20min 40s\n"
     ]
    }
   ],
   "source": [
    "%%time\n",
    "lstData = []\n",
    "for pid in dfTouch.PId.unique():\n",
    "    print(pid)\n",
    "    for phone in dfTouch.Phone.unique():\n",
    "        print(phone)\n",
    "        dfX = dfSensor[(dfSensor.PId == pid) & (dfSensor.Sensor == phone)]\n",
    "        for i, e in dfTouch[(dfTouch.PId == pid) & (dfTouch.Phone == phone)].iterrows():\n",
    "            t = e.Time\n",
    "            e[\"Sensor\"] = dfX[(dfX.Time <= t)].iloc[-100:][cols].values\n",
    "            lstData.append(e)"
   ]
  },
  {
   "cell_type": "code",
   "execution_count": 57,
   "metadata": {},
   "outputs": [],
   "source": [
    "dfCombined = pd.DataFrame(lstData)"
   ]
  },
  {
   "cell_type": "code",
   "execution_count": 58,
   "metadata": {},
   "outputs": [],
   "source": [
    "dfCombined.to_pickle(\"./data/step03.pkl\")"
   ]
  }
 ],
 "metadata": {
  "kernelspec": {
   "display_name": "Python 3",
   "language": "python",
   "name": "python3"
  },
  "language_info": {
   "codemirror_mode": {
    "name": "ipython",
    "version": 3
   },
   "file_extension": ".py",
   "mimetype": "text/x-python",
   "name": "python",
   "nbconvert_exporter": "python",
   "pygments_lexer": "ipython3",
   "version": "3.6.7"
  }
 },
 "nbformat": 4,
 "nbformat_minor": 2
}
